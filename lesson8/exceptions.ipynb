{
 "cells": [
  {
   "cell_type": "markdown",
   "id": "7f8ba906",
   "metadata": {},
   "source": [
    "# Исключения"
   ]
  },
  {
   "cell_type": "markdown",
   "id": "fc8a6c53",
   "metadata": {},
   "source": [
    "## Понятие"
   ]
  },
  {
   "cell_type": "markdown",
   "id": "c999a5ba",
   "metadata": {},
   "source": [
    "Во время выполнения программы могут возникать ситуации, когда состояние внешних данных, устройств ввода-вывода или компьютерной системы в целом делает дальнейшие вычисления в соответствии с базовым алгоритмом невозможными или бессмысленными. Классические примеры подобных ситуаций приведены ниже."
   ]
  },
  {
   "cell_type": "markdown",
   "id": "a778339a",
   "metadata": {},
   "source": [
    "## Обработка исключений"
   ]
  },
  {
   "cell_type": "markdown",
   "id": "53606ea5",
   "metadata": {},
   "source": [
    "### Блок try\n",
    "c англ. \"пытаться\". Попытка программы выполнить какое то действие"
   ]
  },
  {
   "cell_type": "markdown",
   "id": "170cf8cb",
   "metadata": {},
   "source": [
    "### Блок except\n",
    "Описание поведения программы при возникновении исключения "
   ]
  },
  {
   "cell_type": "markdown",
   "id": "91d8ee75",
   "metadata": {},
   "source": [
    "### Блок else\n",
    "Описание поведения программы в случае, когда исключения не возникло"
   ]
  },
  {
   "cell_type": "markdown",
   "id": "c93f82bd",
   "metadata": {},
   "source": [
    "### Блок finally\n",
    "Выполняется в любом случае"
   ]
  },
  {
   "cell_type": "markdown",
   "id": "575648da",
   "metadata": {},
   "source": [
    "### Пример"
   ]
  },
  {
   "cell_type": "code",
   "execution_count": null,
   "id": "c73cd9b6",
   "metadata": {},
   "outputs": [],
   "source": [
    "try:\n",
    "    a=int(input('введите число'))\n",
    "except Exception as e:\n",
    "    print(e)\n",
    "else:\n",
    "    print(a)\n",
    "finally:\n",
    "    print('Программа завершила свою работу')"
   ]
  },
  {
   "cell_type": "markdown",
   "id": "7a47d1ac",
   "metadata": {},
   "source": [
    "### Проверить на исключение"
   ]
  },
  {
   "cell_type": "code",
   "execution_count": 6,
   "id": "c3018ccf",
   "metadata": {},
   "outputs": [
    {
     "ename": "AssertionError",
     "evalue": "",
     "output_type": "error",
     "traceback": [
      "\u001b[0;31m---------------------------------------------------------------------------\u001b[0m",
      "\u001b[0;31mAssertionError\u001b[0m                            Traceback (most recent call last)",
      "\u001b[0;32m/var/folders/6k/98rdhp9j5pq73tmm_47c4s_r0000gp/T/ipykernel_32894/4135346424.py\u001b[0m in \u001b[0;36m<module>\u001b[0;34m\u001b[0m\n\u001b[0;32m----> 1\u001b[0;31m \u001b[0;32massert\u001b[0m \u001b[0;36m1\u001b[0m \u001b[0;34m<\u001b[0m\u001b[0;36m0\u001b[0m\u001b[0;34m\u001b[0m\u001b[0;34m\u001b[0m\u001b[0m\n\u001b[0m",
      "\u001b[0;31mAssertionError\u001b[0m: "
     ]
    }
   ],
   "source": [
    "assert 1 <0"
   ]
  },
  {
   "cell_type": "code",
   "execution_count": 7,
   "id": "2661c88b",
   "metadata": {},
   "outputs": [],
   "source": [
    "assert 1 > 0"
   ]
  },
  {
   "cell_type": "markdown",
   "id": "4e29e2fa",
   "metadata": {},
   "source": [
    "### Спровоцировать исключение"
   ]
  },
  {
   "cell_type": "code",
   "execution_count": 9,
   "id": "bbd6725d",
   "metadata": {},
   "outputs": [
    {
     "ename": "ValueError",
     "evalue": "",
     "output_type": "error",
     "traceback": [
      "\u001b[0;31m---------------------------------------------------------------------------\u001b[0m",
      "\u001b[0;31mValueError\u001b[0m                                Traceback (most recent call last)",
      "\u001b[0;32m/var/folders/6k/98rdhp9j5pq73tmm_47c4s_r0000gp/T/ipykernel_32894/4096975414.py\u001b[0m in \u001b[0;36m<module>\u001b[0;34m\u001b[0m\n\u001b[0;32m----> 1\u001b[0;31m \u001b[0;32mraise\u001b[0m \u001b[0mValueError\u001b[0m\u001b[0;34m\u001b[0m\u001b[0;34m\u001b[0m\u001b[0m\n\u001b[0m",
      "\u001b[0;31mValueError\u001b[0m: "
     ]
    }
   ],
   "source": [
    "raise ValueError"
   ]
  },
  {
   "cell_type": "markdown",
   "id": "2683b1aa",
   "metadata": {},
   "source": [
    "## Собственные исключения"
   ]
  },
  {
   "cell_type": "code",
   "execution_count": 12,
   "id": "cd6a625b",
   "metadata": {},
   "outputs": [
    {
     "ename": "MyEx",
     "evalue": "MyExIsRaised",
     "output_type": "error",
     "traceback": [
      "\u001b[0;31m---------------------------------------------------------------------------\u001b[0m",
      "\u001b[0;31mMyEx\u001b[0m                                      Traceback (most recent call last)",
      "\u001b[0;32m/var/folders/6k/98rdhp9j5pq73tmm_47c4s_r0000gp/T/ipykernel_32894/38641973.py\u001b[0m in \u001b[0;36m<module>\u001b[0;34m\u001b[0m\n\u001b[1;32m      5\u001b[0m     \u001b[0;32mdef\u001b[0m \u001b[0m__str__\u001b[0m\u001b[0;34m(\u001b[0m\u001b[0mself\u001b[0m\u001b[0;34m)\u001b[0m\u001b[0;34m:\u001b[0m\u001b[0;34m\u001b[0m\u001b[0;34m\u001b[0m\u001b[0m\n\u001b[1;32m      6\u001b[0m         \u001b[0;32mreturn\u001b[0m \u001b[0mself\u001b[0m\u001b[0;34m.\u001b[0m\u001b[0mmessage\u001b[0m\u001b[0;34m\u001b[0m\u001b[0;34m\u001b[0m\u001b[0m\n\u001b[0;32m----> 7\u001b[0;31m \u001b[0;32mraise\u001b[0m \u001b[0mMyEx\u001b[0m\u001b[0;34m(\u001b[0m\u001b[0;34m'MyExIsRaised'\u001b[0m\u001b[0;34m)\u001b[0m\u001b[0;34m\u001b[0m\u001b[0;34m\u001b[0m\u001b[0m\n\u001b[0m\u001b[1;32m      8\u001b[0m \u001b[0;34m\u001b[0m\u001b[0m\n",
      "\u001b[0;31mMyEx\u001b[0m: MyExIsRaised"
     ]
    }
   ],
   "source": [
    "class MyEx(Exception):\n",
    "    def __init__(self,message):\n",
    "        super().__init__()\n",
    "        self.message=message\n",
    "    def __str__(self):\n",
    "        return self.message\n",
    "raise MyEx('MyExIsRaised')\n",
    "    "
   ]
  },
  {
   "cell_type": "code",
   "execution_count": null,
   "id": "50a344a3",
   "metadata": {},
   "outputs": [],
   "source": []
  }
 ],
 "metadata": {
  "kernelspec": {
   "display_name": "Python 3 (ipykernel)",
   "language": "python",
   "name": "python3"
  },
  "language_info": {
   "codemirror_mode": {
    "name": "ipython",
    "version": 3
   },
   "file_extension": ".py",
   "mimetype": "text/x-python",
   "name": "python",
   "nbconvert_exporter": "python",
   "pygments_lexer": "ipython3",
   "version": "3.9.13"
  }
 },
 "nbformat": 4,
 "nbformat_minor": 5
}
